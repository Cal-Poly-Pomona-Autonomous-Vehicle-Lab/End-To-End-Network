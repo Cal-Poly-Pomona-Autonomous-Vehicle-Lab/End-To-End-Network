{
 "cells": [
  {
   "cell_type": "code",
   "execution_count": null,
   "id": "6e438d4a-9a44-4dd6-a1c1-f989135a24ff",
   "metadata": {},
   "outputs": [],
   "source": [
    "We want to see the distrubtion of the dataset over the entire run, this is a converted csv file from plain textfile"
   ]
  },
  {
   "cell_type": "code",
   "execution_count": 13,
   "id": "97d70e58-86f8-4dab-97b4-96336fbd39f3",
   "metadata": {},
   "outputs": [],
   "source": [
    "import torch\n",
    "import cv2 \n",
    "import os\n",
    "import pandas as pd \n",
    "\n",
    "from PIL import Image\n",
    "\n",
    "\n",
    "class ConvertToCsv: \n",
    "    def __init__(self, merge_folder, csv_folder): \n",
    "        self.merge_folder = merge_folder \n",
    "        self.csv_folder = csv_folder \n",
    "    \n",
    "    def convert(self): \n",
    "        idx = 0\n",
    "        if os.path.exists(self.merge_folder + \"merged_log_file.txt\") == False: \n",
    "            return\n",
    "\n",
    "        dic = {}\n",
    "        df = pd.DataFrame(dic, columns=[\"count\", \"time\", \"front_image\", \"left_image\", \"right_image\", \"steering\"])\n",
    "        df.to_csv(self.csv_folder + \"logging_data_csv.csv\", header=True)\n",
    "\n",
    "        txt_file = open(self.merge_folder + \"merged_log_file.txt\")\n",
    "        for line in txt_file: \n",
    "            objects = line.split(\" \")\n",
    "\n",
    "            time = objects[0]\n",
    "            frnt_cam = objects[1]\n",
    "            left_cam = objects[2]\n",
    "            right_cam = objects[3]\n",
    "            steering = objects[4]\n",
    "\n",
    "            dic = {\n",
    "                \"count\": [int(idx)],\n",
    "                \"time\": [time], \n",
    "                \"front_image\": [frnt_cam], \n",
    "                \"left_image\": [left_cam], \n",
    "                \"right_image\": [right_cam],\n",
    "                \"steering\": [float(steering)] \n",
    "            }\n",
    "\n",
    "            df = pd.DataFrame(dic, columns=[\"count\", \"time\", \"front_image\", \"left_image\", \"right_image\", \"steering\"])\n",
    "            df.to_csv(self.csv_folder + \"logging_data_csv.csv\", header=False, mode=\"a\")\n",
    "\n",
    "            idx += 1\n",
    "            \n",
    "            \n",
    "if __name__ == '__main__': \n",
    "    csv_manager = ConvertToCsv(\"/Volumes/joeham/logging_camera_down/\", \"/Volumes/joeham/logging_camera_down/\")\n",
    "    csv_manager.convert()"
   ]
  },
  {
   "cell_type": "code",
   "execution_count": 18,
   "id": "2c3ae507-6b66-46a8-8dd4-be593c012932",
   "metadata": {},
   "outputs": [
    {
     "name": "stderr",
     "output_type": "stream",
     "text": [
      "/var/folders/bc/84030qgn4dq7016czb8jvnh40000gn/T/ipykernel_58120/3849608591.py:30: FutureWarning: Setting an item of incompatible dtype is deprecated and will raise an error in a future version of pandas. Value '0.39344262295081966' has dtype incompatible with int64, please explicitly cast to a compatible dtype first.\n",
      "  df.at[idx, \"steering\"] = (2.0 * ((val - minimum) / (maximum - minimum)) - 1.0)\n"
     ]
    },
    {
     "data": {
      "image/png": "[encoded data removed]",
      "text/plain": [
       "<Figure size 800x480 with 1 Axes>"
      ]
     },
     "metadata": {
      "needs_background": "light"
     },
     "output_type": "display_data"
    }
   ],
   "source": [
    "import matplotlib.pyplot as plt\n",
    "import pandas as pd \n",
    "import os \n",
    "\n",
    "def visualize_data(file_name: str) -> None: \n",
    "    df = pd.read_csv(file_name) \n",
    "    df = normalize_data(df) \n",
    "\n",
    "    plt.figure(figsize=(10,6), dpi=80)\n",
    "    df.get(\"steering\").hist(bins=20)\n",
    "    plt.xticks(\n",
    "        ticks=[-1.0, -0.9, -0.8, -0.7, -0.6, -0.5, -0.4, -0.3, -0.2, -0.1, \n",
    "            0.0, 0.1, 0.2, 0.3, 0.4, 0.5, 0.6, 0.7, 0.8, 0.9, 1.0])\n",
    "    plt.show() \n",
    "    \n",
    "def normalize_data(df: pd.DataFrame) -> pd.DataFrame: \n",
    "    ''' \n",
    "        Convert the DataFrame values and normalize the dataset between -1 and 1 \n",
    "\n",
    "        @paramters: \n",
    "            pd.DataFrame\n",
    "        @return: \n",
    "            pd.DataFrame \n",
    "    ''' \n",
    "    minimum = df.get(\"steering\").min()\n",
    "    maximum = df.get(\"steering\").max()\n",
    "\n",
    "    idx = 0 \n",
    "    for val in df.get(\"steering\"):\n",
    "        df.at[idx, \"steering\"] = (2.0 * ((val - minimum) / (maximum - minimum)) - 1.0)\n",
    "        idx += 1\n",
    "    \n",
    "    return df\n",
    "\n",
    "if __name__ == '__main__': \n",
    "    visualize_data(\"/Volumes/joeham/logging_camera_down/logging_data_csv.csv\") "
   ]
  },
  {
   "cell_type": "code",
   "execution_count": null,
   "id": "619cecca-b382-4852-83b2-06aef6795703",
   "metadata": {},
   "outputs": [],
   "source": [
    "Now we want to prepare to oversample the steering from 0.1 to 1.0, as values -1.0 between 0.1 are overrepresented within the dataset. "
   ]
  },
  {
   "cell_type": "code",
   "execution_count": 44,
   "id": "a1c1ea40-4799-4786-a2e5-0f4ae2dc81f9",
   "metadata": {},
   "outputs": [
    {
     "data": {
      "image/png": "[encoded data removed]",
      "text/plain": [
       "<Figure size 800x480 with 1 Axes>"
      ]
     },
     "metadata": {
      "needs_background": "light"
     },
     "output_type": "display_data"
    }
   ],
   "source": [
    "import matplotlib.pyplot as plt\n",
    "import pandas as pd \n",
    "import os \n",
    "\n",
    "from imblearn.over_sampling import RandomOverSampler\n",
    "\n",
    "def visualize_data(file_name: str) -> None: \n",
    "    df = pd.read_csv(file_name, index_col=False) \n",
    "    df = normalize_data(df) \n",
    "\n",
    "    df = remove_oversampled_data(df)\n",
    "    \n",
    "    pd.to_csv(\"/Volunormalized_csv.csv\", index=False) \n",
    "    \n",
    "    plt.figure(figsize=(10,6), dpi=80)\n",
    "    df.get(\"steering\").hist(bins=20)\n",
    "    plt.xticks(\n",
    "        ticks=[-1.0, -0.9, -0.8, -0.7, -0.6, -0.5, -0.4, -0.3, -0.2, -0.1, \n",
    "            0.0, 0.1, 0.2, 0.3, 0.4, 0.5, 0.6, 0.7, 0.8, 0.9, 1.0])\n",
    "    plt.show() \n",
    "\n",
    "def remove_oversampled_data(df: pd.DataFrame) -> pd.DataFrame: \n",
    "    MAX_IMAGES = 1200 \n",
    "    \n",
    "    value_0_1_neg = 0 \n",
    "    value_0_1 = 0\n",
    "\n",
    "    indices_to_drop = [] \n",
    "\n",
    "    idx = 0 \n",
    "    for val in df.get(\"steering\"):\n",
    "        is_remove = False\n",
    "\n",
    "        # Add up any images where the steering is \"forward\" or \"-0.1\" between \"0.1\". After 2000 images, prevent the other images from enter the\n",
    "        # DataFrame\n",
    "        if -0.1 < val < 0.0: \n",
    "            value_0_1_neg += 1 \n",
    "            is_remove = True\n",
    "        if 0.0 <= val < 0.1: \n",
    "            value_0_1 += 1 \n",
    "            is_remove = True\n",
    "\n",
    "        if is_remove == True and value_0_1_neg > MAX_IMAGES: \n",
    "            indices_to_drop.append(idx) \n",
    "        if is_remove == True and value_0_1 > MAX_IMAGES: \n",
    "            indices_to_drop.append(idx) \n",
    "\n",
    "        idx += 1\n",
    "    df.drop(indices_to_drop, inplace=True)  \n",
    "            \n",
    "    return df\n",
    "          \n",
    "    \n",
    "    \n",
    "def normalize_data(df: pd.DataFrame) -> pd.DataFrame: \n",
    "    ''' \n",
    "        Convert the DataFrame values and normalize the dataset between -1 and 1 \n",
    "\n",
    "        @paramters: \n",
    "            pd.DataFrame\n",
    "        @return: \n",
    "            pd.DataFrame \n",
    "    ''' \n",
    "    minimum = df.get(\"steering\").min()\n",
    "    maximum = df.get(\"steering\").max()\n",
    "\n",
    "    idx = 0 \n",
    "    for val in df.get(\"steering\"):\n",
    "        df.at[idx, \"steering\"] = (2.0 * ((val - minimum) / (maximum - minimum)) - 1.0)\n",
    "        idx += 1\n",
    "    \n",
    "    return df\n",
    "\n",
    "if __name__ == '__main__': \n",
    "    visualize_data(\"/Volumes/joeham/logging_camera_down/logging_data_csv.csv\") "
   ]
  },
  {
   "cell_type": "code",
   "execution_count": null,
   "id": "456019e5-ad56-480d-9167-4f9cac6eec0d",
   "metadata": {},
   "outputs": [],
   "source": []
  }
 ],
 "metadata": {
  "kernelspec": {
   "display_name": "Python 3 (ipykernel)",
   "language": "python",
   "name": "python3"
  },
  "language_info": {
   "codemirror_mode": {
    "name": "ipython",
    "version": 3
   },
   "file_extension": ".py",
   "mimetype": "text/x-python",
   "name": "python",
   "nbconvert_exporter": "python",
   "pygments_lexer": "ipython3",
   "version": "3.11.11"
  }
 },
 "nbformat": 4,
 "nbformat_minor": 5
}
